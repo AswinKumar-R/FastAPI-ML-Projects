{
 "cells": [
  {
   "cell_type": "code",
   "execution_count": 2,
   "id": "108116df",
   "metadata": {},
   "outputs": [],
   "source": [
    "import yfinance as yf\n",
    "from datetime import *\n",
    "import pandas as pd\n",
    "import matplotlib.pyplot as plt"
   ]
  },
  {
   "cell_type": "code",
   "execution_count": 3,
   "id": "759bbdbb",
   "metadata": {},
   "outputs": [
    {
     "name": "stdout",
     "output_type": "stream",
     "text": [
      "Symbol: TCS.NS\n",
      "Name: TATA CONSULTANCY SERV LT\n",
      "Market: N/A\n",
      "Sector: Technology\n",
      "------------------------------\n"
     ]
    }
   ],
   "source": [
    "symbols = ['TCS.NS']\n",
    "for symbol in symbols:\n",
    "    stock = yf.Ticker(symbol)\n",
    "    info = stock.info\n",
    "    print(f\"Symbol: {symbol}\")\n",
    "    print(f\"Name: {info.get('shortName', 'N/A')}\")\n",
    "    print(f\"Market: {info.get('market', 'N/A')}\")\n",
    "    print(f\"Sector: {info.get('sector', 'N/A')}\")\n",
    "    print(\"-\" * 30)"
   ]
  },
  {
   "cell_type": "code",
   "execution_count": 4,
   "id": "94eb332e",
   "metadata": {},
   "outputs": [
    {
     "name": "stderr",
     "output_type": "stream",
     "text": [
      "[*********************100%***********************]  1 of 1 completed\n"
     ]
    },
    {
     "data": {
      "text/html": [
       "<div>\n",
       "<style scoped>\n",
       "    .dataframe tbody tr th:only-of-type {\n",
       "        vertical-align: middle;\n",
       "    }\n",
       "\n",
       "    .dataframe tbody tr th {\n",
       "        vertical-align: top;\n",
       "    }\n",
       "\n",
       "    .dataframe thead tr th {\n",
       "        text-align: left;\n",
       "    }\n",
       "\n",
       "    .dataframe thead tr:last-of-type th {\n",
       "        text-align: right;\n",
       "    }\n",
       "</style>\n",
       "<table border=\"1\" class=\"dataframe\">\n",
       "  <thead>\n",
       "    <tr>\n",
       "      <th>Price</th>\n",
       "      <th>Close</th>\n",
       "      <th>Dividends</th>\n",
       "      <th>High</th>\n",
       "      <th>Low</th>\n",
       "      <th>Open</th>\n",
       "      <th>Stock Splits</th>\n",
       "      <th>Volume</th>\n",
       "    </tr>\n",
       "    <tr>\n",
       "      <th>Ticker</th>\n",
       "      <th>TCS.NS</th>\n",
       "      <th>TCS.NS</th>\n",
       "      <th>TCS.NS</th>\n",
       "      <th>TCS.NS</th>\n",
       "      <th>TCS.NS</th>\n",
       "      <th>TCS.NS</th>\n",
       "      <th>TCS.NS</th>\n",
       "    </tr>\n",
       "    <tr>\n",
       "      <th>Date</th>\n",
       "      <th></th>\n",
       "      <th></th>\n",
       "      <th></th>\n",
       "      <th></th>\n",
       "      <th></th>\n",
       "      <th></th>\n",
       "      <th></th>\n",
       "    </tr>\n",
       "  </thead>\n",
       "  <tbody>\n",
       "    <tr>\n",
       "      <th>2002-08-12</th>\n",
       "      <td>27.938730</td>\n",
       "      <td>0.0</td>\n",
       "      <td>28.149854</td>\n",
       "      <td>27.252576</td>\n",
       "      <td>27.252576</td>\n",
       "      <td>0.0</td>\n",
       "      <td>212976</td>\n",
       "    </tr>\n",
       "    <tr>\n",
       "      <th>2002-08-13</th>\n",
       "      <td>27.560478</td>\n",
       "      <td>0.0</td>\n",
       "      <td>28.422570</td>\n",
       "      <td>27.358152</td>\n",
       "      <td>27.973930</td>\n",
       "      <td>0.0</td>\n",
       "      <td>153576</td>\n",
       "    </tr>\n",
       "    <tr>\n",
       "      <th>2002-08-14</th>\n",
       "      <td>25.660357</td>\n",
       "      <td>0.0</td>\n",
       "      <td>27.622049</td>\n",
       "      <td>25.141341</td>\n",
       "      <td>27.622049</td>\n",
       "      <td>0.0</td>\n",
       "      <td>822776</td>\n",
       "    </tr>\n",
       "    <tr>\n",
       "      <th>2002-08-15</th>\n",
       "      <td>25.660357</td>\n",
       "      <td>0.0</td>\n",
       "      <td>25.660357</td>\n",
       "      <td>25.660357</td>\n",
       "      <td>25.660357</td>\n",
       "      <td>0.0</td>\n",
       "      <td>0</td>\n",
       "    </tr>\n",
       "    <tr>\n",
       "      <th>2002-08-16</th>\n",
       "      <td>25.598772</td>\n",
       "      <td>0.0</td>\n",
       "      <td>26.742360</td>\n",
       "      <td>25.158931</td>\n",
       "      <td>25.528398</td>\n",
       "      <td>0.0</td>\n",
       "      <td>811856</td>\n",
       "    </tr>\n",
       "    <tr>\n",
       "      <th>...</th>\n",
       "      <td>...</td>\n",
       "      <td>...</td>\n",
       "      <td>...</td>\n",
       "      <td>...</td>\n",
       "      <td>...</td>\n",
       "      <td>...</td>\n",
       "      <td>...</td>\n",
       "    </tr>\n",
       "    <tr>\n",
       "      <th>2025-01-23</th>\n",
       "      <td>4145.450195</td>\n",
       "      <td>0.0</td>\n",
       "      <td>4191.350098</td>\n",
       "      <td>4140.049805</td>\n",
       "      <td>4168.000000</td>\n",
       "      <td>0.0</td>\n",
       "      <td>1822998</td>\n",
       "    </tr>\n",
       "    <tr>\n",
       "      <th>2025-01-24</th>\n",
       "      <td>4152.350098</td>\n",
       "      <td>0.0</td>\n",
       "      <td>4178.000000</td>\n",
       "      <td>4104.000000</td>\n",
       "      <td>4104.000000</td>\n",
       "      <td>0.0</td>\n",
       "      <td>1910099</td>\n",
       "    </tr>\n",
       "    <tr>\n",
       "      <th>2025-01-27</th>\n",
       "      <td>4065.149902</td>\n",
       "      <td>0.0</td>\n",
       "      <td>4156.350098</td>\n",
       "      <td>4041.050049</td>\n",
       "      <td>4102.000000</td>\n",
       "      <td>0.0</td>\n",
       "      <td>1551782</td>\n",
       "    </tr>\n",
       "    <tr>\n",
       "      <th>2025-01-28</th>\n",
       "      <td>4040.300049</td>\n",
       "      <td>0.0</td>\n",
       "      <td>4102.000000</td>\n",
       "      <td>4028.300049</td>\n",
       "      <td>4070.800049</td>\n",
       "      <td>0.0</td>\n",
       "      <td>2468272</td>\n",
       "    </tr>\n",
       "    <tr>\n",
       "      <th>2025-01-29</th>\n",
       "      <td>4099.799805</td>\n",
       "      <td>0.0</td>\n",
       "      <td>4107.850098</td>\n",
       "      <td>4054.000000</td>\n",
       "      <td>4054.000000</td>\n",
       "      <td>0.0</td>\n",
       "      <td>1217089</td>\n",
       "    </tr>\n",
       "  </tbody>\n",
       "</table>\n",
       "<p>5578 rows × 7 columns</p>\n",
       "</div>"
      ],
      "text/plain": [
       "Price             Close Dividends         High          Low         Open  \\\n",
       "Ticker           TCS.NS    TCS.NS       TCS.NS       TCS.NS       TCS.NS   \n",
       "Date                                                                       \n",
       "2002-08-12    27.938730       0.0    28.149854    27.252576    27.252576   \n",
       "2002-08-13    27.560478       0.0    28.422570    27.358152    27.973930   \n",
       "2002-08-14    25.660357       0.0    27.622049    25.141341    27.622049   \n",
       "2002-08-15    25.660357       0.0    25.660357    25.660357    25.660357   \n",
       "2002-08-16    25.598772       0.0    26.742360    25.158931    25.528398   \n",
       "...                 ...       ...          ...          ...          ...   \n",
       "2025-01-23  4145.450195       0.0  4191.350098  4140.049805  4168.000000   \n",
       "2025-01-24  4152.350098       0.0  4178.000000  4104.000000  4104.000000   \n",
       "2025-01-27  4065.149902       0.0  4156.350098  4041.050049  4102.000000   \n",
       "2025-01-28  4040.300049       0.0  4102.000000  4028.300049  4070.800049   \n",
       "2025-01-29  4099.799805       0.0  4107.850098  4054.000000  4054.000000   \n",
       "\n",
       "Price      Stock Splits   Volume  \n",
       "Ticker           TCS.NS   TCS.NS  \n",
       "Date                              \n",
       "2002-08-12          0.0   212976  \n",
       "2002-08-13          0.0   153576  \n",
       "2002-08-14          0.0   822776  \n",
       "2002-08-15          0.0        0  \n",
       "2002-08-16          0.0   811856  \n",
       "...                 ...      ...  \n",
       "2025-01-23          0.0  1822998  \n",
       "2025-01-24          0.0  1910099  \n",
       "2025-01-27          0.0  1551782  \n",
       "2025-01-28          0.0  2468272  \n",
       "2025-01-29          0.0  1217089  \n",
       "\n",
       "[5578 rows x 7 columns]"
      ]
     },
     "execution_count": 4,
     "metadata": {},
     "output_type": "execute_result"
    }
   ],
   "source": [
    "stock='TCS.NS'  \n",
    "\n",
    "start = '2000-01-01'\n",
    "\n",
    "today = pd.to_datetime(\"today\")\n",
    "yesterday = pd.to_datetime(\"today\") - timedelta(days = 1)\n",
    "end = yesterday\n",
    "\n",
    "df = yf.download(stock,\n",
    "start=start,\n",
    "end=yesterday,\n",
    "auto_adjust=True,\n",
    "actions='inline',\n",
    "progress=True)\n",
    "df"
   ]
  },
  {
   "cell_type": "code",
   "execution_count": 5,
   "id": "60a1a665",
   "metadata": {},
   "outputs": [
    {
     "name": "stdout",
     "output_type": "stream",
     "text": [
      "Price             Close\n",
      "Ticker           TCS.NS\n",
      "Date                   \n",
      "2002-08-12    27.938730\n",
      "2002-08-13    27.560478\n",
      "2002-08-14    25.660357\n",
      "2002-08-15    25.660357\n",
      "2002-08-16    25.598772\n",
      "...                 ...\n",
      "2025-01-23  4145.450195\n",
      "2025-01-24  4152.350098\n",
      "2025-01-27  4065.149902\n",
      "2025-01-28  4040.300049\n",
      "2025-01-29  4099.799805\n",
      "\n",
      "[5578 rows x 1 columns]\n",
      "<class 'pandas.core.frame.DataFrame'>\n"
     ]
    },
    {
     "data": {
      "image/png": "[encoded data removed]",
      "text/plain": [
       "<Figure size 640x480 with 1 Axes>"
      ]
     },
     "metadata": {},
     "output_type": "display_data"
    }
   ],
   "source": [
    "df = df.loc[:, ['Close']]\n",
    "plt.plot(df['Close'])\n",
    "print(df)\n",
    "print(type(df))"
   ]
  },
  {
   "cell_type": "code",
   "execution_count": 6,
   "id": "701e45cb",
   "metadata": {},
   "outputs": [
    {
     "name": "stdout",
     "output_type": "stream",
     "text": [
      "Original Columns: MultiIndex([('Close', 'TCS.NS')],\n",
      "           names=['Price', 'Ticker'])\n"
     ]
    }
   ],
   "source": [
    "print(\"Original Columns:\", df.columns)"
   ]
  },
  {
   "cell_type": "code",
   "execution_count": 7,
   "id": "ab993ecd",
   "metadata": {},
   "outputs": [
    {
     "name": "stdout",
     "output_type": "stream",
     "text": [
      "('Close', 'TCS.NS')\n",
      "Close_TCS.NS\n"
     ]
    }
   ],
   "source": [
    "for col in df.columns:\n",
    "    print(col)\n",
    "    print('_'.join(col).strip())"
   ]
  },
  {
   "cell_type": "code",
   "execution_count": 8,
   "id": "2752ccaa",
   "metadata": {},
   "outputs": [
    {
     "name": "stdout",
     "output_type": "stream",
     "text": [
      "Flattened Columns: Index(['Close_TCS.NS'], dtype='object')\n"
     ]
    }
   ],
   "source": [
    "# Flatten the MultiIndex\n",
    "df.columns = ['_'.join(col).strip() for col in df.columns]\n",
    "\n",
    "# Display the resulting columns\n",
    "print(\"Flattened Columns:\", df.columns)\n"
   ]
  },
  {
   "cell_type": "code",
   "execution_count": 9,
   "id": "dcbaac9c",
   "metadata": {},
   "outputs": [
    {
     "name": "stdout",
     "output_type": "stream",
     "text": [
      "                    y         ds\n",
      "Date                            \n",
      "2002-08-12  27.938730 2002-08-12\n",
      "2002-08-13  27.560478 2002-08-13\n",
      "2002-08-14  25.660357 2002-08-14\n",
      "2002-08-15  25.660357 2002-08-15\n",
      "2002-08-16  25.598772 2002-08-16\n"
     ]
    }
   ],
   "source": [
    "# Rename columns to 'ds' and 'y'\n",
    "df['ds'] = df.index  # Assign the index as the 'ds' column\n",
    "df = df.rename(columns={'Close_TCS.NS': 'y'})\n",
    "\n",
    "# Check the updated DataFrame\n",
    "print(df.head())"
   ]
  },
  {
   "cell_type": "code",
   "execution_count": 10,
   "id": "c29f4ff3",
   "metadata": {},
   "outputs": [
    {
     "name": "stdout",
     "output_type": "stream",
     "text": [
      "                      y         ds\n",
      "Date                              \n",
      "2002-08-12    27.938730 2002-08-12\n",
      "2002-08-13    27.560478 2002-08-13\n",
      "2002-08-14    25.660357 2002-08-14\n",
      "2002-08-15    25.660357 2002-08-15\n",
      "2002-08-16    25.598772 2002-08-16\n",
      "...                 ...        ...\n",
      "2025-01-23  4145.450195 2025-01-23\n",
      "2025-01-24  4152.350098 2025-01-24\n",
      "2025-01-27  4065.149902 2025-01-27\n",
      "2025-01-28  4040.300049 2025-01-28\n",
      "2025-01-29  4099.799805 2025-01-29\n",
      "\n",
      "[5578 rows x 2 columns]\n"
     ]
    }
   ],
   "source": [
    "print(df)"
   ]
  },
  {
   "cell_type": "code",
   "execution_count": null,
   "id": "d098feb4",
   "metadata": {},
   "outputs": [
    {
     "name": "stderr",
     "output_type": "stream",
     "text": [
      "14:33:10 - cmdstanpy - INFO - Chain [1] start processing\n",
      "14:33:10 - cmdstanpy - INFO - Chain [1] done processing\n"
     ]
    }
   ],
   "source": [
    "from prophet import Prophet\n",
    "import pandas as pd\n",
    "\n",
    "# Sample Data: Replace this with your dataset\n",
    "data = pd.DataFrame(df)\n",
    "\n",
    "data['ds'] = pd.to_datetime(data['ds'])\n",
    "\n",
    "# Initialize the Prophet model\n",
    "model = Prophet(\n",
    "    changepoint_prior_scale=0.001,\n",
    "    yearly_seasonality=True,\n",
    "    weekly_seasonality=True,\n",
    "    daily_seasonality=True\n",
    ")\n",
    "\n",
    "# Fit the model with the historical data\n",
    "model.fit(data)\n",
    "\n",
    "# Create a future DataFrame for the next 5 days\n",
    "future = model.make_future_dataframe(periods=5)\n",
    "\n",
    "# Generate predictions\n",
    "forecast = model.predict(future)\n",
    "\n",
    "# Display the relevant columns from the forecast\n",
    "print(forecast[['ds', 'yhat', 'yhat_lower', 'yhat_upper']])\n"
   ]
  },
  {
   "cell_type": "code",
   "execution_count": null,
   "id": "95f71b02",
   "metadata": {},
   "outputs": [],
   "source": [
    "import sqlite3\n",
    "conn = sqlite3.connect('forecast_database.db')\n",
    "forecast.to_sql('TCS_Stock_Prediction', con=conn, index=False, if_exists='replace')\n",
    "conn.close()"
   ]
  },
  {
   "cell_type": "code",
   "execution_count": null,
   "id": "ef6e019f",
   "metadata": {},
   "outputs": [],
   "source": [
    "# Display the forecast\n",
    "print(forecast[['ds','yhat', 'yhat_lower','yhat_upper']])"
   ]
  },
  {
   "cell_type": "code",
   "execution_count": null,
   "id": "c3ea75b9",
   "metadata": {},
   "outputs": [],
   "source": [
    "from sklearn.preprocessing import MinMaxScaler\n",
    "import pickle\n",
    "\n",
    "scaler = MinMaxScaler()\n",
    "df['y_scaled'] = scaler.fit_transform(df[['y']])\n",
    "\n",
    "# Save scaler and model\n",
    "with open('scaler.pkl', 'wb') as scaler_file:\n",
    "    pickle.dump(scaler, scaler_file)\n",
    "\n",
    "with open('TCS_Stock_Model.pkl', 'wb') as model_file:\n",
    "    pickle.dump(model, model_file)\n"
   ]
  },
  {
   "cell_type": "code",
   "execution_count": null,
   "id": "d8c12a71",
   "metadata": {},
   "outputs": [],
   "source": [
    "print(forecast.to_csv('TCS_Stock_Model.csv'))"
   ]
  },
  {
   "cell_type": "code",
   "execution_count": null,
   "id": "e5ce54da",
   "metadata": {},
   "outputs": [],
   "source": [
    "!pip install --upgrade pip setuptools\n"
   ]
  },
  {
   "cell_type": "code",
   "execution_count": null,
   "id": "122f6bbc",
   "metadata": {},
   "outputs": [],
   "source": [
    "!pip install numpy==1.21.0"
   ]
  },
  {
   "cell_type": "code",
   "execution_count": null,
   "id": "d857cd77",
   "metadata": {},
   "outputs": [],
   "source": [
    "import pickle\n",
    "import numpy as np\n",
    "\n",
    "# Load the model\n",
    "with open('TCS_Stock_Model.pkl', 'rb') as file:\n",
    "    model = pickle.load(file)\n",
    "\n",
    "# Test input\n",
    "test_input = np.array([[20000]], dtype=np.float32)\n",
    "prediction = model.predict(test_input)\n",
    "print(f\"Prediction: {prediction}\")\n"
   ]
  },
  {
   "cell_type": "code",
   "execution_count": null,
   "id": "103a1474",
   "metadata": {},
   "outputs": [],
   "source": []
  }
 ],
 "metadata": {
  "kernelspec": {
   "display_name": "Python 3 (ipykernel)",
   "language": "python",
   "name": "python3"
  },
  "language_info": {
   "codemirror_mode": {
    "name": "ipython",
    "version": 3
   },
   "file_extension": ".py",
   "mimetype": "text/x-python",
   "name": "python",
   "nbconvert_exporter": "python",
   "pygments_lexer": "ipython3",
   "version": "3.11.4"
  }
 },
 "nbformat": 4,
 "nbformat_minor": 5
}
